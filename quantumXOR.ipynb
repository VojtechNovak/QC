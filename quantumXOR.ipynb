{
 "cells": [
  {
   "cell_type": "markdown",
   "metadata": {},
   "source": [
    "# One neuron"
   ]
  },
  {
   "cell_type": "code",
   "execution_count": 31,
   "metadata": {},
   "outputs": [
    {
     "name": "stdout",
     "output_type": "stream",
     "text": [
      "Optimized Weights: [0.11037514 0.65632959]\n",
      "Predictions: [tensor(1., requires_grad=True), tensor(0.7922373, requires_grad=True), tensor(0.99391485, requires_grad=True), tensor(0.72020072, requires_grad=True)]\n"
     ]
    },
    {
     "data": {
      "image/png": "[encoded data removed]",
      "text/plain": [
       "<Figure size 640x480 with 1 Axes>"
      ]
     },
     "metadata": {},
     "output_type": "display_data"
    }
   ],
   "source": [
    "import pennylane as qml\n",
    "from pennylane import numpy as np\n",
    "import matplotlib.pyplot as plt\n",
    "# Define the quantum device\n",
    "dev = qml.device(\"default.qubit\", wires=1)\n",
    "\n",
    "# Quantum circuit\n",
    "@qml.qnode(dev)\n",
    "def quantum_neuron(weights, inputs):\n",
    "    qml.RY(inputs[0] * weights[0], wires=0)\n",
    "    qml.RY(inputs[1] * weights[1], wires=0)\n",
    "    return qml.expval(qml.PauliZ(0))\n",
    "\n",
    "# Cost function\n",
    "def cost(weights, inputs, targets):\n",
    "    predictions = [quantum_neuron(weights, x) for x in inputs]\n",
    "    return np.mean((predictions - targets) ** 2)\n",
    "\n",
    "# Initialize weights and inputs for XOR\n",
    "weights = np.random.random(size=(2,))\n",
    "inputs = np.array([[0, 0], [0, 1], [1, 0], [1, 1]])\n",
    "\n",
    "# Define targets for XOR\n",
    "targets = np.array([0, 1, 1, 0])\n",
    "\n",
    "# Optimize the weights to minimize the cost\n",
    "opt = qml.GradientDescentOptimizer(0.1)\n",
    "steps = 200\n",
    "\n",
    "for i in range(steps):\n",
    "    weights = opt.step(lambda w: cost(w, inputs, targets), weights)\n",
    "\n",
    "# Print the optimized weights\n",
    "print(\"Optimized Weights:\", weights)\n",
    "\n",
    "# Evaluate the quantum neuron with the optimized weights\n",
    "predictions = [quantum_neuron(weights, x) for x in inputs]\n",
    "print(\"Predictions:\", predictions)\n",
    "\n",
    "# Plot the bar chart of predictions\n",
    "fig, ax = plt.subplots()\n",
    "ax.bar(range(len(predictions)), predictions, tick_label=['(0,0)', '(0,1)', '(1,0)', '(1,1)'])\n",
    "ax.set_ylabel('Probability')\n",
    "ax.set_title('Quantum Perceptron Predictions on XOR')\n",
    "plt.show()"
   ]
  },
  {
   "cell_type": "code",
   "execution_count": 50,
   "metadata": {},
   "outputs": [
    {
     "data": {
      "image/png": "[encoded data removed]",
      "text/plain": [
       "<Figure size 500x200 with 1 Axes>"
      ]
     },
     "metadata": {},
     "output_type": "display_data"
    }
   ],
   "source": [
    "fig, ax = qml.draw_mpl(quantum_neuron)(np.array([0.1, 0.2]),np.array([0.3, 0.4]))\n",
    "plt.show()"
   ]
  },
  {
   "cell_type": "markdown",
   "metadata": {},
   "source": [
    "# Two neurons"
   ]
  },
  {
   "cell_type": "code",
   "execution_count": 33,
   "metadata": {},
   "outputs": [],
   "source": [
    "import pennylane as qml\n",
    "from pennylane import numpy as np\n",
    "from pennylane.optimize import NesterovMomentumOptimizer\n",
    "\n",
    "dev = qml.device(\"default.qubit\", wires=2)\n",
    "\n",
    "def statepreparation(x):\n",
    "    qml.BasisState(x, wires=[0, 1])\n",
    "\n",
    "def layer(W):\n",
    "    qml.Rot(W[0, 0], W[0, 1], W[0, 2], wires=0)\n",
    "    qml.Rot(W[1, 0], W[1, 1], W[1, 2], wires=1)\n",
    "    qml.CNOT(wires=[0, 1])\n",
    "\n",
    "\n",
    "@qml.qnode(dev)\n",
    "def circuit(weights, x):\n",
    "\n",
    "    statepreparation(x)\n",
    "\n",
    "    for W in weights:\n",
    "        layer(W)\n",
    "\n",
    "    return qml.expval(qml.PauliZ(0))\n",
    "\n",
    "\n",
    "def variational_classifier(weights, bias, x):\n",
    "    return circuit(weights, x) + bias\n",
    "\n",
    "\n",
    "def square_loss(labels, predictions):\n",
    "    loss = 0\n",
    "    for l, p in zip(labels, predictions):\n",
    "        loss = loss + (l - p) ** 2\n",
    "\n",
    "    loss = loss / len(labels)\n",
    "    return loss\n",
    "\n",
    "def accuracy(labels, predictions):\n",
    "\n",
    "    loss = 0\n",
    "    for l, p in zip(labels, predictions):\n",
    "        if abs(l - p) < 1e-5:\n",
    "            loss = loss + 1\n",
    "    loss = loss / len(labels)\n",
    "\n",
    "    return loss\n",
    "\n",
    "def cost(weights, bias, X, Y):\n",
    "    predictions = [variational_classifier(weights, bias, x) for x in X]\n",
    "    return square_loss(Y, predictions)"
   ]
  },
  {
   "cell_type": "code",
   "execution_count": 35,
   "metadata": {},
   "outputs": [
    {
     "name": "stdout",
     "output_type": "stream",
     "text": [
      "Iter:     1 | Cost: 1.9978443 | Accuracy: 0.5000000 \n",
      "Iter:     2 | Cost: 1.9318615 | Accuracy: 0.5000000 \n",
      "Iter:     3 | Cost: 1.0887936 | Accuracy: 0.5000000 \n",
      "Iter:     4 | Cost: 0.2525947 | Accuracy: 1.0000000 \n",
      "Iter:     5 | Cost: 0.2818010 | Accuracy: 1.0000000 \n",
      "Iter:     6 | Cost: 0.0028290 | Accuracy: 1.0000000 \n",
      "Iter:     7 | Cost: 0.2346488 | Accuracy: 1.0000000 \n",
      "Iter:     8 | Cost: 0.8823360 | Accuracy: 0.5000000 \n",
      "Iter:     9 | Cost: 1.4045823 | Accuracy: 0.0000000 \n",
      "Iter:    10 | Cost: 0.3595219 | Accuracy: 1.0000000 \n",
      "Iter:    11 | Cost: 0.7620504 | Accuracy: 1.0000000 \n",
      "Iter:    12 | Cost: 0.6011310 | Accuracy: 1.0000000 \n",
      "Iter:    13 | Cost: 0.2972244 | Accuracy: 1.0000000 \n",
      "Iter:    14 | Cost: 0.5736607 | Accuracy: 1.0000000 \n",
      "Iter:    15 | Cost: 0.0528059 | Accuracy: 1.0000000 \n",
      "Iter:    16 | Cost: 0.1285745 | Accuracy: 1.0000000 \n",
      "Iter:    17 | Cost: 0.1977134 | Accuracy: 1.0000000 \n",
      "Iter:    18 | Cost: 0.7616758 | Accuracy: 0.5000000 \n",
      "Iter:    19 | Cost: 0.1142320 | Accuracy: 1.0000000 \n",
      "Iter:    20 | Cost: 0.2455137 | Accuracy: 1.0000000 \n",
      "Iter:    21 | Cost: 0.4498153 | Accuracy: 1.0000000 \n",
      "Iter:    22 | Cost: 0.0639494 | Accuracy: 1.0000000 \n",
      "Iter:    23 | Cost: 0.1230824 | Accuracy: 1.0000000 \n",
      "Iter:    24 | Cost: 0.0146364 | Accuracy: 1.0000000 \n",
      "Iter:    25 | Cost: 1.0125554 | Accuracy: 0.5000000 \n",
      "Iter:    26 | Cost: 0.5133993 | Accuracy: 1.0000000 \n",
      "Iter:    27 | Cost: 0.5653275 | Accuracy: 1.0000000 \n",
      "Iter:    28 | Cost: 0.1596565 | Accuracy: 1.0000000 \n",
      "Iter:    29 | Cost: 0.8129513 | Accuracy: 0.5000000 \n",
      "Iter:    30 | Cost: 1.0397832 | Accuracy: 0.5000000 \n",
      "Iter:    31 | Cost: 0.1776531 | Accuracy: 1.0000000 \n",
      "Iter:    32 | Cost: 0.3432679 | Accuracy: 1.0000000 \n",
      "Iter:    33 | Cost: 0.2281993 | Accuracy: 1.0000000 \n",
      "Iter:    34 | Cost: 0.2745781 | Accuracy: 1.0000000 \n",
      "Iter:    35 | Cost: 0.5325276 | Accuracy: 0.5000000 \n",
      "Iter:    36 | Cost: 0.2715331 | Accuracy: 1.0000000 \n",
      "Iter:    37 | Cost: 0.2336431 | Accuracy: 1.0000000 \n",
      "Iter:    38 | Cost: 0.2536151 | Accuracy: 1.0000000 \n",
      "Iter:    39 | Cost: 0.6919768 | Accuracy: 1.0000000 \n",
      "Iter:    40 | Cost: 1.0247247 | Accuracy: 0.5000000 \n",
      "Iter:    41 | Cost: 0.8169865 | Accuracy: 0.5000000 \n",
      "Iter:    42 | Cost: 0.4578171 | Accuracy: 1.0000000 \n",
      "Iter:    43 | Cost: 0.2967673 | Accuracy: 1.0000000 \n",
      "Iter:    44 | Cost: 0.3738749 | Accuracy: 1.0000000 \n",
      "Iter:    45 | Cost: 0.3249053 | Accuracy: 1.0000000 \n",
      "Iter:    46 | Cost: 0.3341399 | Accuracy: 1.0000000 \n",
      "Iter:    47 | Cost: 0.1277934 | Accuracy: 1.0000000 \n",
      "Iter:    48 | Cost: 0.3346859 | Accuracy: 1.0000000 \n",
      "Iter:    49 | Cost: 0.0213735 | Accuracy: 1.0000000 \n",
      "Iter:    50 | Cost: 0.1984629 | Accuracy: 1.0000000 \n",
      "Iter:    51 | Cost: 0.3894379 | Accuracy: 1.0000000 \n",
      "Iter:    52 | Cost: 0.3969523 | Accuracy: 1.0000000 \n",
      "Iter:    53 | Cost: 0.2467834 | Accuracy: 1.0000000 \n",
      "Iter:    54 | Cost: 0.0922874 | Accuracy: 1.0000000 \n",
      "Iter:    55 | Cost: 0.1391083 | Accuracy: 1.0000000 \n",
      "Iter:    56 | Cost: 0.3476407 | Accuracy: 1.0000000 \n",
      "Iter:    57 | Cost: 0.0855891 | Accuracy: 1.0000000 \n",
      "Iter:    58 | Cost: 0.1241553 | Accuracy: 1.0000000 \n",
      "Iter:    59 | Cost: 0.1802941 | Accuracy: 1.0000000 \n",
      "Iter:    60 | Cost: 0.0939409 | Accuracy: 1.0000000 \n",
      "[tensor(-1., requires_grad=True), tensor(1., requires_grad=True), tensor(1., requires_grad=True), tensor(-1., requires_grad=True)]\n"
     ]
    }
   ],
   "source": [
    "data = [\n",
    "    [0, 0, 0],\n",
    "    [0, 1, 1],\n",
    "    [1, 0, 1],\n",
    "    [1, 1, 0]\n",
    "]\n",
    "\n",
    "\n",
    "data = np.array(data)\n",
    "X = np.array(data[:, :-1], requires_grad=False)\n",
    "Y = np.array(data[:, -1], requires_grad=False)\n",
    "Y = Y * 2 - np.ones(len(Y))  # shift label from {0, 1} to {-1, 1}\n",
    "\n",
    "np.random.seed(0)\n",
    "num_qubits = 2\n",
    "num_layers = 6\n",
    "weights_init = 0.01 * np.random.randn(num_layers, num_qubits, 3, requires_grad=True)\n",
    "bias_init = np.array(0.0, requires_grad=True)\n",
    "\n",
    "opt = NesterovMomentumOptimizer(0.5)\n",
    "\n",
    "weights = weights_init\n",
    "bias = bias_init\n",
    "for it in range(60):\n",
    "\n",
    "    # Update the weights by one optimizer step\n",
    "    weights, bias, _, _ = opt.step(cost, weights, bias, X, Y)\n",
    "\n",
    "    # Compute accuracy\n",
    "    predictions = [np.sign(variational_classifier(weights, bias, x)) for x in X]\n",
    "    acc = accuracy(Y, predictions)\n",
    "\n",
    "    print(\n",
    "        \"Iter: {:5d} | Cost: {:0.7f} | Accuracy: {:0.7f} \".format(\n",
    "            it + 1, cost(weights, bias, X, Y), acc\n",
    "        )\n",
    "    )\n",
    "\n",
    "print(predictions)\n"
   ]
  },
  {
   "cell_type": "code",
   "execution_count": 36,
   "metadata": {},
   "outputs": [
    {
     "name": "stderr",
     "output_type": "stream",
     "text": [
      "C:\\Users\\petre\\AppData\\Local\\Temp\\ipykernel_18364\\2288477927.py:2: UserWarning: Matplotlib is currently using module://matplotlib_inline.backend_inline, which is a non-GUI backend, so cannot show the figure.\n",
      "  fig.show()\n"
     ]
    },
    {
     "data": {
      "image/png": "[encoded data removed]",
      "text/plain": [
       "<Figure size 1600x300 with 1 Axes>"
      ]
     },
     "metadata": {},
     "output_type": "display_data"
    }
   ],
   "source": [
    "fig, ax = qml.draw_mpl(circuit)(weights_init,X)\n",
    "fig.show()"
   ]
  }
 ],
 "metadata": {
  "kernelspec": {
   "display_name": "myenv",
   "language": "python",
   "name": "python3"
  },
  "language_info": {
   "codemirror_mode": {
    "name": "ipython",
    "version": 3
   },
   "file_extension": ".py",
   "mimetype": "text/x-python",
   "name": "python",
   "nbconvert_exporter": "python",
   "pygments_lexer": "ipython3",
   "version": "3.10.4"
  }
 },
 "nbformat": 4,
 "nbformat_minor": 2
}
