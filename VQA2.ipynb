{
 "cells": [
  {
   "cell_type": "code",
   "execution_count": 40,
   "metadata": {},
   "outputs": [],
   "source": [
    "#pennylane optimization\n",
    "import pennylane as qml\n",
    "import pennylane.numpy as np\n",
    "num_wires = 6\n",
    "dev = qml.device(\"default.qubit\", wires=num_wires)\n",
    "\n",
    "@qml.qnode(dev)\n",
    "def circuit(theta):\n",
    "    qml.PauliX(wires=0)\n",
    "    for i in range(num_wires):\n",
    "        qml.RY(theta, wires=i)\n",
    "    return qml.expval(qml.PauliZ(0))\n",
    "\n",
    "theta = np.array([-2.0] * num_wires, requires_grad=True)\n",
    "\n",
    "thetas = np.linspace(-np.pi, np.pi, 50)\n",
    "thetas_matrix = np.tile(thetas, (6, 1))\n",
    "measurements = np.zeros((6, 50))\n",
    "\n",
    "\n",
    "for i in range(num_wires):\n",
    "    for j in range(len(thetas)):\n",
    "        measurements[i,j] = (circuit(thetas_matrix[i,j]))\n",
    "        "
   ]
  },
  {
   "cell_type": "code",
   "execution_count": 41,
   "metadata": {},
   "outputs": [
    {
     "name": "stdout",
     "output_type": "stream",
     "text": [
      "Step 1/100: Cost = -0.4161468365471424\n",
      "Step 11/100: Cost = -0.9015038162478398\n",
      "Step 21/100: Cost = -0.987421536307511\n",
      "Step 31/100: Cost = -0.9984612946674164\n",
      "Step 41/100: Cost = -0.9998127885353733\n",
      "Step 51/100: Cost = -0.9999772373731639\n",
      "Step 61/100: Cost = -0.9999972325651839\n",
      "Step 71/100: Cost = -0.9999996635440781\n",
      "Step 81/100: Cost = -0.9999999590948079\n",
      "Step 91/100: Cost = -0.9999999950268834\n",
      "Optimized parameters: [-3.14155402 -2.        ]\n",
      "Expectation values after optimization: (tensor(-1., requires_grad=True), tensor(0.41614684, requires_grad=True))\n"
     ]
    }
   ],
   "source": [
    "import pennylane as qml\n",
    "from pennylane import numpy as np\n",
    "\n",
    "# Set up the PennyLane QNode\n",
    "dev = qml.device(\"default.qubit\", wires=2)\n",
    "\n",
    "@qml.qnode(dev)\n",
    "def circuit(theta1, theta2):\n",
    "    qml.RX(theta1, wires=0)\n",
    "    qml.RY(theta2, wires=1)\n",
    "    qml.CNOT(wires=[0, 1])\n",
    "    return qml.expval(qml.PauliZ(0)), qml.expval(qml.PauliZ(1))\n",
    "\n",
    "# Define the cost function to optimize\n",
    "def cost(params):\n",
    "    theta1, theta2 = params\n",
    "    return circuit(theta1, theta2)[0]  # We are optimizing with respect to the expectation value of PauliZ on qubit 0\n",
    "\n",
    "# Initialize the parameters\n",
    "init_params = np.array([-2, -2])\n",
    "\n",
    "# Optimize the parameters\n",
    "opt = qml.GradientDescentOptimizer(0.1)\n",
    "\n",
    "# Perform optimization\n",
    "steps = 100\n",
    "for i in range(steps):\n",
    "    init_params = opt.step(cost, init_params)\n",
    "    current_cost = cost(init_params)\n",
    "    if i%10==0:\n",
    "        print(f\"Step {i + 1}/{steps}: Cost = {current_cost}\")\n",
    "\n",
    "# Print the optimized parameters\n",
    "print(\"Optimized parameters:\", init_params)\n",
    "\n",
    "# Evaluate the circuit with the optimized parameters\n",
    "result = circuit(init_params[0], init_params[1])\n",
    "print(\"Expectation values after optimization:\", result)\n"
   ]
  },
  {
   "cell_type": "code",
   "execution_count": 44,
   "metadata": {},
   "outputs": [
    {
     "name": "stdout",
     "output_type": "stream",
     "text": [
      "Step 1/100: Training Accuracy = 0.425\n",
      "Step 11/100: Training Accuracy = 0.43333333333333335\n",
      "Step 21/100: Training Accuracy = 0.43333333333333335\n",
      "Step 31/100: Training Accuracy = 0.43333333333333335\n",
      "Step 41/100: Training Accuracy = 0.43333333333333335\n",
      "Step 51/100: Training Accuracy = 0.43333333333333335\n",
      "Step 61/100: Training Accuracy = 0.43333333333333335\n",
      "Step 71/100: Training Accuracy = 0.43333333333333335\n",
      "Step 81/100: Training Accuracy = 0.43333333333333335\n",
      "Step 91/100: Training Accuracy = 0.43333333333333335\n",
      "Test Accuracy: 0.3333333333333333\n"
     ]
    }
   ],
   "source": [
    "import pennylane as qml\n",
    "from pennylane import numpy as np\n",
    "from sklearn.datasets import load_iris\n",
    "from sklearn.model_selection import train_test_split\n",
    "from sklearn.preprocessing import StandardScaler\n",
    "from sklearn.metrics import accuracy_score\n",
    "\n",
    "# Load the Iris dataset\n",
    "iris = load_iris()\n",
    "X = iris.data\n",
    "y = iris.target\n",
    "\n",
    "# Preprocess the data\n",
    "scaler = StandardScaler()\n",
    "X_scaled = scaler.fit_transform(X)\n",
    "\n",
    "# Split the data into training and testing sets\n",
    "X_train, X_test, y_train, y_test = train_test_split(X_scaled, y, test_size=0.2, random_state=42)\n",
    "\n",
    "# Set up the PennyLane QNode\n",
    "dev = qml.device(\"default.qubit\", wires=2)\n",
    "\n",
    "@qml.qnode(dev)\n",
    "def circuit(weights, x):\n",
    "    qml.RY(x[0], wires=0)\n",
    "    qml.RY(x[1], wires=1)\n",
    "    qml.CNOT(wires=[0, 1])\n",
    "    qml.RY(weights[0], wires=0)\n",
    "    qml.RY(weights[1], wires=1)\n",
    "    qml.CNOT(wires=[0, 1])\n",
    "    return qml.expval(qml.PauliZ(0))\n",
    "\n",
    "# Define the cost function for binary classification\n",
    "def cost(weights, x, target):\n",
    "    prediction = (circuit(weights, x) + 1) / 2  # Map the output to [0, 1]\n",
    "    return (prediction - target)**2\n",
    "\n",
    "# Initialize the parameters\n",
    "init_weights = np.array([0.0, 0.0])\n",
    "\n",
    "# Optimize the parameters for binary classification\n",
    "target_labels = 2 * y_train - 1  # Map labels to {-1, 1}\n",
    "\n",
    "# Perform optimization\n",
    "opt = qml.GradientDescentOptimizer(0.1)\n",
    "steps = 100\n",
    "\n",
    "for i in range(steps):\n",
    "    for j, (x, target) in enumerate(zip(X_train, target_labels)):\n",
    "        init_weights = opt.step(lambda w: cost(w, x, target), init_weights)\n",
    "\n",
    "    if i % 10 == 0:\n",
    "        predictions_train = [np.sign(circuit(init_weights, x)) for x in X_train]\n",
    "        acc_train = accuracy_score(target_labels, predictions_train)\n",
    "        print(f\"Step {i + 1}/{steps}: Training Accuracy = {acc_train}\")\n",
    "\n",
    "# Evaluate the circuit with the optimized parameters on the test set\n",
    "predictions_test = [np.sign(circuit(init_weights, x)) for x in X_test]\n",
    "acc_test = accuracy_score(2 * y_test - 1, predictions_test)\n",
    "print(\"Test Accuracy:\", acc_test)\n"
   ]
  },
  {
   "cell_type": "code",
   "execution_count": 45,
   "metadata": {},
   "outputs": [
    {
     "name": "stderr",
     "output_type": "stream",
     "text": [
      "C:\\Users\\petre\\AppData\\Local\\Temp\\ipykernel_19816\\3210583923.py:2: UserWarning: Matplotlib is currently using module://matplotlib_inline.backend_inline, which is a non-GUI backend, so cannot show the figure.\n",
      "  fig.show()\n"
     ]
    },
    {
     "data": {
      "image/png": "[encoded data removed]",
      "text/plain": [
       "<Figure size 504x216 with 1 Axes>"
      ]
     },
     "metadata": {},
     "output_type": "display_data"
    }
   ],
   "source": [
    "fig, ax = qml.draw_mpl(circuit)([1,1],[1,1])\n",
    "fig.show()\n"
   ]
  },
  {
   "cell_type": "code",
   "execution_count": 49,
   "metadata": {},
   "outputs": [
    {
     "ename": "ValueError",
     "evalue": "Features must be of length 2 or less; got length 4.",
     "output_type": "error",
     "traceback": [
      "\u001b[1;31m---------------------------------------------------------------------------\u001b[0m",
      "\u001b[1;31mValueError\u001b[0m                                Traceback (most recent call last)",
      "\u001b[1;32mc:\\Users\\petre\\Desktop\\test1\\VQA2.ipynb Cell 5\u001b[0m line \u001b[0;36m<cell line: 47>\u001b[1;34m()\u001b[0m\n\u001b[0;32m     <a href='vscode-notebook-cell:/c%3A/Users/petre/Desktop/test1/VQA2.ipynb#W6sZmlsZQ%3D%3D?line=46'>47</a>\u001b[0m \u001b[39mfor\u001b[39;00m i \u001b[39min\u001b[39;00m \u001b[39mrange\u001b[39m(steps):\n\u001b[0;32m     <a href='vscode-notebook-cell:/c%3A/Users/petre/Desktop/test1/VQA2.ipynb#W6sZmlsZQ%3D%3D?line=47'>48</a>\u001b[0m     \u001b[39mfor\u001b[39;00m j, (x, target) \u001b[39min\u001b[39;00m \u001b[39menumerate\u001b[39m(\u001b[39mzip\u001b[39m(X_train, target_labels)):\n\u001b[1;32m---> <a href='vscode-notebook-cell:/c%3A/Users/petre/Desktop/test1/VQA2.ipynb#W6sZmlsZQ%3D%3D?line=48'>49</a>\u001b[0m         init_params \u001b[39m=\u001b[39m opt\u001b[39m.\u001b[39;49mstep(\u001b[39mlambda\u001b[39;49;00m p: cost(p, x, target), init_params)\n\u001b[0;32m     <a href='vscode-notebook-cell:/c%3A/Users/petre/Desktop/test1/VQA2.ipynb#W6sZmlsZQ%3D%3D?line=50'>51</a>\u001b[0m     \u001b[39mif\u001b[39;00m i \u001b[39m%\u001b[39m \u001b[39m10\u001b[39m \u001b[39m==\u001b[39m \u001b[39m0\u001b[39m:\n\u001b[0;32m     <a href='vscode-notebook-cell:/c%3A/Users/petre/Desktop/test1/VQA2.ipynb#W6sZmlsZQ%3D%3D?line=51'>52</a>\u001b[0m         predictions_train \u001b[39m=\u001b[39m [np\u001b[39m.\u001b[39msign(quantum_circuit(init_params, x)) \u001b[39mfor\u001b[39;00m x \u001b[39min\u001b[39;00m X_train]\n",
      "File \u001b[1;32mc:\\Users\\petre\\anaconda3\\envs\\myenv\\lib\\site-packages\\pennylane\\optimize\\gradient_descent.py:88\u001b[0m, in \u001b[0;36mGradientDescentOptimizer.step\u001b[1;34m(self, objective_fn, grad_fn, *args, **kwargs)\u001b[0m\n\u001b[0;32m     70\u001b[0m \u001b[39mdef\u001b[39;00m \u001b[39mstep\u001b[39m(\u001b[39mself\u001b[39m, objective_fn, \u001b[39m*\u001b[39margs, grad_fn\u001b[39m=\u001b[39m\u001b[39mNone\u001b[39;00m, \u001b[39m*\u001b[39m\u001b[39m*\u001b[39mkwargs):\n\u001b[0;32m     71\u001b[0m     \u001b[39m\"\"\"Update trainable arguments with one step of the optimizer.\u001b[39;00m\n\u001b[0;32m     72\u001b[0m \n\u001b[0;32m     73\u001b[0m \u001b[39m    Args:\u001b[39;00m\n\u001b[1;32m   (...)\u001b[0m\n\u001b[0;32m     85\u001b[0m \u001b[39m        If single arg is provided, list [array] is replaced by array.\u001b[39;00m\n\u001b[0;32m     86\u001b[0m \u001b[39m    \"\"\"\u001b[39;00m\n\u001b[1;32m---> 88\u001b[0m     g, _ \u001b[39m=\u001b[39m \u001b[39mself\u001b[39;49m\u001b[39m.\u001b[39;49mcompute_grad(objective_fn, args, kwargs, grad_fn\u001b[39m=\u001b[39;49mgrad_fn)\n\u001b[0;32m     89\u001b[0m     new_args \u001b[39m=\u001b[39m \u001b[39mself\u001b[39m\u001b[39m.\u001b[39mapply_grad(g, args)\n\u001b[0;32m     91\u001b[0m     \u001b[39m# unwrap from list if one argument, cleaner return\u001b[39;00m\n",
      "File \u001b[1;32mc:\\Users\\petre\\anaconda3\\envs\\myenv\\lib\\site-packages\\pennylane\\optimize\\gradient_descent.py:117\u001b[0m, in \u001b[0;36mGradientDescentOptimizer.compute_grad\u001b[1;34m(objective_fn, args, kwargs, grad_fn)\u001b[0m\n\u001b[0;32m     99\u001b[0m \u001b[39mr\u001b[39m\u001b[39m\"\"\"Compute gradient of the objective function at the given point and return it along with\u001b[39;00m\n\u001b[0;32m    100\u001b[0m \u001b[39mthe objective function forward pass (if available).\u001b[39;00m\n\u001b[0;32m    101\u001b[0m \n\u001b[1;32m   (...)\u001b[0m\n\u001b[0;32m    114\u001b[0m \u001b[39m    will not be evaluted and instead ``None`` will be returned.\u001b[39;00m\n\u001b[0;32m    115\u001b[0m \u001b[39m\"\"\"\u001b[39;00m\n\u001b[0;32m    116\u001b[0m g \u001b[39m=\u001b[39m get_gradient(objective_fn) \u001b[39mif\u001b[39;00m grad_fn \u001b[39mis\u001b[39;00m \u001b[39mNone\u001b[39;00m \u001b[39melse\u001b[39;00m grad_fn\n\u001b[1;32m--> 117\u001b[0m grad \u001b[39m=\u001b[39m g(\u001b[39m*\u001b[39margs, \u001b[39m*\u001b[39m\u001b[39m*\u001b[39mkwargs)\n\u001b[0;32m    118\u001b[0m forward \u001b[39m=\u001b[39m \u001b[39mgetattr\u001b[39m(g, \u001b[39m\"\u001b[39m\u001b[39mforward\u001b[39m\u001b[39m\"\u001b[39m, \u001b[39mNone\u001b[39;00m)\n\u001b[0;32m    120\u001b[0m num_trainable_args \u001b[39m=\u001b[39m \u001b[39msum\u001b[39m(\u001b[39mgetattr\u001b[39m(arg, \u001b[39m\"\u001b[39m\u001b[39mrequires_grad\u001b[39m\u001b[39m\"\u001b[39m, \u001b[39mFalse\u001b[39;00m) \u001b[39mfor\u001b[39;00m arg \u001b[39min\u001b[39;00m args)\n",
      "File \u001b[1;32mc:\\Users\\petre\\anaconda3\\envs\\myenv\\lib\\site-packages\\pennylane\\_grad.py:118\u001b[0m, in \u001b[0;36mgrad.__call__\u001b[1;34m(self, *args, **kwargs)\u001b[0m\n\u001b[0;32m    115\u001b[0m     \u001b[39mself\u001b[39m\u001b[39m.\u001b[39m_forward \u001b[39m=\u001b[39m \u001b[39mself\u001b[39m\u001b[39m.\u001b[39m_fun(\u001b[39m*\u001b[39margs, \u001b[39m*\u001b[39m\u001b[39m*\u001b[39mkwargs)\n\u001b[0;32m    116\u001b[0m     \u001b[39mreturn\u001b[39;00m ()\n\u001b[1;32m--> 118\u001b[0m grad_value, ans \u001b[39m=\u001b[39m grad_fn(\u001b[39m*\u001b[39margs, \u001b[39m*\u001b[39m\u001b[39m*\u001b[39mkwargs)  \u001b[39m# pylint: disable=not-callable\u001b[39;00m\n\u001b[0;32m    119\u001b[0m \u001b[39mself\u001b[39m\u001b[39m.\u001b[39m_forward \u001b[39m=\u001b[39m ans\n\u001b[0;32m    121\u001b[0m \u001b[39mreturn\u001b[39;00m grad_value\n",
      "File \u001b[1;32mc:\\Users\\petre\\anaconda3\\envs\\myenv\\lib\\site-packages\\autograd\\wrap_util.py:20\u001b[0m, in \u001b[0;36munary_to_nary.<locals>.nary_operator.<locals>.nary_f\u001b[1;34m(*args, **kwargs)\u001b[0m\n\u001b[0;32m     18\u001b[0m \u001b[39melse\u001b[39;00m:\n\u001b[0;32m     19\u001b[0m     x \u001b[39m=\u001b[39m \u001b[39mtuple\u001b[39m(args[i] \u001b[39mfor\u001b[39;00m i \u001b[39min\u001b[39;00m argnum)\n\u001b[1;32m---> 20\u001b[0m \u001b[39mreturn\u001b[39;00m unary_operator(unary_f, x, \u001b[39m*\u001b[39mnary_op_args, \u001b[39m*\u001b[39m\u001b[39m*\u001b[39mnary_op_kwargs)\n",
      "File \u001b[1;32mc:\\Users\\petre\\anaconda3\\envs\\myenv\\lib\\site-packages\\pennylane\\_grad.py:136\u001b[0m, in \u001b[0;36mgrad._grad_with_forward\u001b[1;34m(fun, x)\u001b[0m\n\u001b[0;32m    130\u001b[0m \u001b[39m@staticmethod\u001b[39m\n\u001b[0;32m    131\u001b[0m \u001b[39m@unary_to_nary\u001b[39m\n\u001b[0;32m    132\u001b[0m \u001b[39mdef\u001b[39;00m \u001b[39m_grad_with_forward\u001b[39m(fun, x):\n\u001b[0;32m    133\u001b[0m     \u001b[39m\"\"\"This function is a replica of ``autograd.grad``, with the only\u001b[39;00m\n\u001b[0;32m    134\u001b[0m \u001b[39m    difference being that it returns both the gradient *and* the forward pass\u001b[39;00m\n\u001b[0;32m    135\u001b[0m \u001b[39m    value.\"\"\"\u001b[39;00m\n\u001b[1;32m--> 136\u001b[0m     vjp, ans \u001b[39m=\u001b[39m _make_vjp(fun, x)\n\u001b[0;32m    138\u001b[0m     \u001b[39mif\u001b[39;00m \u001b[39mnot\u001b[39;00m vspace(ans)\u001b[39m.\u001b[39msize \u001b[39m==\u001b[39m \u001b[39m1\u001b[39m:\n\u001b[0;32m    139\u001b[0m         \u001b[39mraise\u001b[39;00m \u001b[39mTypeError\u001b[39;00m(\n\u001b[0;32m    140\u001b[0m             \u001b[39m\"\u001b[39m\u001b[39mGrad only applies to real scalar-output functions. \u001b[39m\u001b[39m\"\u001b[39m\n\u001b[0;32m    141\u001b[0m             \u001b[39m\"\u001b[39m\u001b[39mTry jacobian, elementwise_grad or holomorphic_grad.\u001b[39m\u001b[39m\"\u001b[39m\n\u001b[0;32m    142\u001b[0m         )\n",
      "File \u001b[1;32mc:\\Users\\petre\\anaconda3\\envs\\myenv\\lib\\site-packages\\autograd\\core.py:10\u001b[0m, in \u001b[0;36mmake_vjp\u001b[1;34m(fun, x)\u001b[0m\n\u001b[0;32m      8\u001b[0m \u001b[39mdef\u001b[39;00m \u001b[39mmake_vjp\u001b[39m(fun, x):\n\u001b[0;32m      9\u001b[0m     start_node \u001b[39m=\u001b[39m VJPNode\u001b[39m.\u001b[39mnew_root()\n\u001b[1;32m---> 10\u001b[0m     end_value, end_node \u001b[39m=\u001b[39m  trace(start_node, fun, x)\n\u001b[0;32m     11\u001b[0m     \u001b[39mif\u001b[39;00m end_node \u001b[39mis\u001b[39;00m \u001b[39mNone\u001b[39;00m:\n\u001b[0;32m     12\u001b[0m         \u001b[39mdef\u001b[39;00m \u001b[39mvjp\u001b[39m(g): \u001b[39mreturn\u001b[39;00m vspace(x)\u001b[39m.\u001b[39mzeros()\n",
      "File \u001b[1;32mc:\\Users\\petre\\anaconda3\\envs\\myenv\\lib\\site-packages\\autograd\\tracer.py:10\u001b[0m, in \u001b[0;36mtrace\u001b[1;34m(start_node, fun, x)\u001b[0m\n\u001b[0;32m      8\u001b[0m \u001b[39mwith\u001b[39;00m trace_stack\u001b[39m.\u001b[39mnew_trace() \u001b[39mas\u001b[39;00m t:\n\u001b[0;32m      9\u001b[0m     start_box \u001b[39m=\u001b[39m new_box(x, t, start_node)\n\u001b[1;32m---> 10\u001b[0m     end_box \u001b[39m=\u001b[39m fun(start_box)\n\u001b[0;32m     11\u001b[0m     \u001b[39mif\u001b[39;00m isbox(end_box) \u001b[39mand\u001b[39;00m end_box\u001b[39m.\u001b[39m_trace \u001b[39m==\u001b[39m start_box\u001b[39m.\u001b[39m_trace:\n\u001b[0;32m     12\u001b[0m         \u001b[39mreturn\u001b[39;00m end_box\u001b[39m.\u001b[39m_value, end_box\u001b[39m.\u001b[39m_node\n",
      "File \u001b[1;32mc:\\Users\\petre\\anaconda3\\envs\\myenv\\lib\\site-packages\\autograd\\wrap_util.py:15\u001b[0m, in \u001b[0;36munary_to_nary.<locals>.nary_operator.<locals>.nary_f.<locals>.unary_f\u001b[1;34m(x)\u001b[0m\n\u001b[0;32m     13\u001b[0m \u001b[39melse\u001b[39;00m:\n\u001b[0;32m     14\u001b[0m     subargs \u001b[39m=\u001b[39m subvals(args, \u001b[39mzip\u001b[39m(argnum, x))\n\u001b[1;32m---> 15\u001b[0m \u001b[39mreturn\u001b[39;00m fun(\u001b[39m*\u001b[39msubargs, \u001b[39m*\u001b[39m\u001b[39m*\u001b[39mkwargs)\n",
      "\u001b[1;32mc:\\Users\\petre\\Desktop\\test1\\VQA2.ipynb Cell 5\u001b[0m line \u001b[0;36m<lambda>\u001b[1;34m(p)\u001b[0m\n\u001b[0;32m     <a href='vscode-notebook-cell:/c%3A/Users/petre/Desktop/test1/VQA2.ipynb#W6sZmlsZQ%3D%3D?line=46'>47</a>\u001b[0m \u001b[39mfor\u001b[39;00m i \u001b[39min\u001b[39;00m \u001b[39mrange\u001b[39m(steps):\n\u001b[0;32m     <a href='vscode-notebook-cell:/c%3A/Users/petre/Desktop/test1/VQA2.ipynb#W6sZmlsZQ%3D%3D?line=47'>48</a>\u001b[0m     \u001b[39mfor\u001b[39;00m j, (x, target) \u001b[39min\u001b[39;00m \u001b[39menumerate\u001b[39m(\u001b[39mzip\u001b[39m(X_train, target_labels)):\n\u001b[1;32m---> <a href='vscode-notebook-cell:/c%3A/Users/petre/Desktop/test1/VQA2.ipynb#W6sZmlsZQ%3D%3D?line=48'>49</a>\u001b[0m         init_params \u001b[39m=\u001b[39m opt\u001b[39m.\u001b[39mstep(\u001b[39mlambda\u001b[39;00m p: cost(p, x, target), init_params)\n\u001b[0;32m     <a href='vscode-notebook-cell:/c%3A/Users/petre/Desktop/test1/VQA2.ipynb#W6sZmlsZQ%3D%3D?line=50'>51</a>\u001b[0m     \u001b[39mif\u001b[39;00m i \u001b[39m%\u001b[39m \u001b[39m10\u001b[39m \u001b[39m==\u001b[39m \u001b[39m0\u001b[39m:\n\u001b[0;32m     <a href='vscode-notebook-cell:/c%3A/Users/petre/Desktop/test1/VQA2.ipynb#W6sZmlsZQ%3D%3D?line=51'>52</a>\u001b[0m         predictions_train \u001b[39m=\u001b[39m [np\u001b[39m.\u001b[39msign(quantum_circuit(init_params, x)) \u001b[39mfor\u001b[39;00m x \u001b[39min\u001b[39;00m X_train]\n",
      "\u001b[1;32mc:\\Users\\petre\\Desktop\\test1\\VQA2.ipynb Cell 5\u001b[0m line \u001b[0;36mcost\u001b[1;34m(params, x, target)\u001b[0m\n\u001b[0;32m     <a href='vscode-notebook-cell:/c%3A/Users/petre/Desktop/test1/VQA2.ipynb#W6sZmlsZQ%3D%3D?line=29'>30</a>\u001b[0m \u001b[39mdef\u001b[39;00m \u001b[39mcost\u001b[39m(params, x, target):\n\u001b[1;32m---> <a href='vscode-notebook-cell:/c%3A/Users/petre/Desktop/test1/VQA2.ipynb#W6sZmlsZQ%3D%3D?line=30'>31</a>\u001b[0m     prediction \u001b[39m=\u001b[39m (quantum_circuit(params, x) \u001b[39m+\u001b[39m \u001b[39m1\u001b[39m) \u001b[39m/\u001b[39m \u001b[39m2\u001b[39m  \u001b[39m# Map the output to [0, 1]\u001b[39;00m\n\u001b[0;32m     <a href='vscode-notebook-cell:/c%3A/Users/petre/Desktop/test1/VQA2.ipynb#W6sZmlsZQ%3D%3D?line=31'>32</a>\u001b[0m     \u001b[39mreturn\u001b[39;00m (prediction \u001b[39m-\u001b[39m target)\u001b[39m*\u001b[39m\u001b[39m*\u001b[39m\u001b[39m2\u001b[39m\n",
      "File \u001b[1;32mc:\\Users\\petre\\anaconda3\\envs\\myenv\\lib\\site-packages\\pennylane\\qnode.py:970\u001b[0m, in \u001b[0;36mQNode.__call__\u001b[1;34m(self, *args, **kwargs)\u001b[0m\n\u001b[0;32m    967\u001b[0m         kwargs[\u001b[39m\"\u001b[39m\u001b[39mshots\u001b[39m\u001b[39m\"\u001b[39m] \u001b[39m=\u001b[39m _get_device_shots(\u001b[39mself\u001b[39m\u001b[39m.\u001b[39m_original_device)\n\u001b[0;32m    969\u001b[0m \u001b[39m# construct the tape\u001b[39;00m\n\u001b[1;32m--> 970\u001b[0m \u001b[39mself\u001b[39;49m\u001b[39m.\u001b[39;49mconstruct(args, kwargs)\n\u001b[0;32m    972\u001b[0m cache \u001b[39m=\u001b[39m \u001b[39mself\u001b[39m\u001b[39m.\u001b[39mexecute_kwargs\u001b[39m.\u001b[39mget(\u001b[39m\"\u001b[39m\u001b[39mcache\u001b[39m\u001b[39m\"\u001b[39m, \u001b[39mFalse\u001b[39;00m)\n\u001b[0;32m    973\u001b[0m using_custom_cache \u001b[39m=\u001b[39m (\n\u001b[0;32m    974\u001b[0m     \u001b[39mhasattr\u001b[39m(cache, \u001b[39m\"\u001b[39m\u001b[39m__getitem__\u001b[39m\u001b[39m\"\u001b[39m)\n\u001b[0;32m    975\u001b[0m     \u001b[39mand\u001b[39;00m \u001b[39mhasattr\u001b[39m(cache, \u001b[39m\"\u001b[39m\u001b[39m__setitem__\u001b[39m\u001b[39m\"\u001b[39m)\n\u001b[0;32m    976\u001b[0m     \u001b[39mand\u001b[39;00m \u001b[39mhasattr\u001b[39m(cache, \u001b[39m\"\u001b[39m\u001b[39m__delitem__\u001b[39m\u001b[39m\"\u001b[39m)\n\u001b[0;32m    977\u001b[0m )\n",
      "File \u001b[1;32mc:\\Users\\petre\\anaconda3\\envs\\myenv\\lib\\site-packages\\pennylane\\qnode.py:856\u001b[0m, in \u001b[0;36mQNode.construct\u001b[1;34m(self, args, kwargs)\u001b[0m\n\u001b[0;32m    853\u001b[0m     \u001b[39mself\u001b[39m\u001b[39m.\u001b[39minterface \u001b[39m=\u001b[39m qml\u001b[39m.\u001b[39mmath\u001b[39m.\u001b[39mget_interface(\u001b[39m*\u001b[39margs, \u001b[39m*\u001b[39m\u001b[39mlist\u001b[39m(kwargs\u001b[39m.\u001b[39mvalues()))\n\u001b[0;32m    855\u001b[0m \u001b[39mwith\u001b[39;00m qml\u001b[39m.\u001b[39mqueuing\u001b[39m.\u001b[39mAnnotatedQueue() \u001b[39mas\u001b[39;00m q:\n\u001b[1;32m--> 856\u001b[0m     \u001b[39mself\u001b[39m\u001b[39m.\u001b[39m_qfunc_output \u001b[39m=\u001b[39m \u001b[39mself\u001b[39m\u001b[39m.\u001b[39mfunc(\u001b[39m*\u001b[39margs, \u001b[39m*\u001b[39m\u001b[39m*\u001b[39mkwargs)\n\u001b[0;32m    858\u001b[0m \u001b[39mself\u001b[39m\u001b[39m.\u001b[39m_tape \u001b[39m=\u001b[39m QuantumScript\u001b[39m.\u001b[39mfrom_queue(q, shots)\n\u001b[0;32m    860\u001b[0m params \u001b[39m=\u001b[39m \u001b[39mself\u001b[39m\u001b[39m.\u001b[39mtape\u001b[39m.\u001b[39mget_parameters(trainable_only\u001b[39m=\u001b[39m\u001b[39mFalse\u001b[39;00m)\n",
      "\u001b[1;32mc:\\Users\\petre\\Desktop\\test1\\VQA2.ipynb Cell 5\u001b[0m line \u001b[0;36mquantum_circuit\u001b[1;34m(params, x)\u001b[0m\n\u001b[0;32m     <a href='vscode-notebook-cell:/c%3A/Users/petre/Desktop/test1/VQA2.ipynb#W6sZmlsZQ%3D%3D?line=22'>23</a>\u001b[0m \u001b[39m@qml\u001b[39m\u001b[39m.\u001b[39mqnode(dev)\n\u001b[0;32m     <a href='vscode-notebook-cell:/c%3A/Users/petre/Desktop/test1/VQA2.ipynb#W6sZmlsZQ%3D%3D?line=23'>24</a>\u001b[0m \u001b[39mdef\u001b[39;00m \u001b[39mquantum_circuit\u001b[39m(params, x):\n\u001b[1;32m---> <a href='vscode-notebook-cell:/c%3A/Users/petre/Desktop/test1/VQA2.ipynb#W6sZmlsZQ%3D%3D?line=24'>25</a>\u001b[0m     qml\u001b[39m.\u001b[39;49mtemplates\u001b[39m.\u001b[39;49mAngleEmbedding(x, wires\u001b[39m=\u001b[39;49m[\u001b[39m0\u001b[39;49m, \u001b[39m1\u001b[39;49m])\n\u001b[0;32m     <a href='vscode-notebook-cell:/c%3A/Users/petre/Desktop/test1/VQA2.ipynb#W6sZmlsZQ%3D%3D?line=25'>26</a>\u001b[0m     qml\u001b[39m.\u001b[39mtemplates\u001b[39m.\u001b[39mBasicEntanglerLayers(params, wires\u001b[39m=\u001b[39m[\u001b[39m0\u001b[39m, \u001b[39m1\u001b[39m])\n\u001b[0;32m     <a href='vscode-notebook-cell:/c%3A/Users/petre/Desktop/test1/VQA2.ipynb#W6sZmlsZQ%3D%3D?line=26'>27</a>\u001b[0m     \u001b[39mreturn\u001b[39;00m qml\u001b[39m.\u001b[39mexpval(qml\u001b[39m.\u001b[39mPauliZ(\u001b[39m0\u001b[39m))\n",
      "File \u001b[1;32mc:\\Users\\petre\\anaconda3\\envs\\myenv\\lib\\site-packages\\pennylane\\templates\\embeddings\\angle.py:92\u001b[0m, in \u001b[0;36mAngleEmbedding.__init__\u001b[1;34m(self, features, wires, rotation, id)\u001b[0m\n\u001b[0;32m     90\u001b[0m n_features \u001b[39m=\u001b[39m shape[\u001b[39m0\u001b[39m]\n\u001b[0;32m     91\u001b[0m \u001b[39mif\u001b[39;00m n_features \u001b[39m>\u001b[39m \u001b[39mlen\u001b[39m(wires):\n\u001b[1;32m---> 92\u001b[0m     \u001b[39mraise\u001b[39;00m \u001b[39mValueError\u001b[39;00m(\n\u001b[0;32m     93\u001b[0m         \u001b[39mf\u001b[39m\u001b[39m\"\u001b[39m\u001b[39mFeatures must be of length \u001b[39m\u001b[39m{\u001b[39;00m\u001b[39mlen\u001b[39m(wires)\u001b[39m}\u001b[39;00m\u001b[39m or less; got length \u001b[39m\u001b[39m{\u001b[39;00mn_features\u001b[39m}\u001b[39;00m\u001b[39m.\u001b[39m\u001b[39m\"\u001b[39m\n\u001b[0;32m     94\u001b[0m     )\n\u001b[0;32m     96\u001b[0m \u001b[39mself\u001b[39m\u001b[39m.\u001b[39m_rotation \u001b[39m=\u001b[39m rotation\n\u001b[0;32m     97\u001b[0m \u001b[39mself\u001b[39m\u001b[39m.\u001b[39m_hyperparameters \u001b[39m=\u001b[39m {\u001b[39m\"\u001b[39m\u001b[39mrotation\u001b[39m\u001b[39m\"\u001b[39m: ROT[rotation]}\n",
      "\u001b[1;31mValueError\u001b[0m: Features must be of length 2 or less; got length 4."
     ]
    }
   ],
   "source": [
    "import pennylane as qml\n",
    "from pennylane import numpy as np\n",
    "from sklearn.datasets import load_iris\n",
    "from sklearn.model_selection import train_test_split\n",
    "from sklearn.preprocessing import StandardScaler\n",
    "from sklearn.metrics import accuracy_score\n",
    "\n",
    "# Load the Iris dataset\n",
    "iris = load_iris()\n",
    "X = iris.data\n",
    "y = iris.target\n",
    "\n",
    "# Preprocess the data\n",
    "scaler = StandardScaler()\n",
    "X_scaled = scaler.fit_transform(X)\n",
    "\n",
    "# Split the data into training and testing sets\n",
    "X_train, X_test, y_train, y_test = train_test_split(X_scaled, y, test_size=0.2, random_state=42)\n",
    "\n",
    "# Set up the PennyLane QNode\n",
    "dev = qml.device(\"default.qubit\", wires=2)\n",
    "\n",
    "@qml.qnode(dev)\n",
    "def quantum_circuit(params, x):\n",
    "    qml.templates.AngleEmbedding(x, wires=[0, 1])\n",
    "    qml.templates.BasicEntanglerLayers(params, wires=[0, 1])\n",
    "    return qml.expval(qml.PauliZ(0))\n",
    "\n",
    "# Define the cost function for binary classification\n",
    "def cost(params, x, target):\n",
    "    prediction = (quantum_circuit(params, x) + 1) / 2  # Map the output to [0, 1]\n",
    "    return (prediction - target)**2\n",
    "\n",
    "# Initialize the parameters\n",
    "num_layers = 6\n",
    "num_params = 2 * num_layers  # Each layer has 2 parameters\n",
    "init_params = np.random.rand(num_params)\n",
    "init_params /= np.linalg.norm(init_params)  # Normalize the parameters\n",
    "\n",
    "# Optimize the parameters for binary classification\n",
    "target_labels = 2 * y_train - 1  # Map labels to {-1, 1}\n",
    "\n",
    "# Perform optimization\n",
    "opt = qml.AdamOptimizer(0.1)\n",
    "steps = 100\n",
    "\n",
    "for i in range(steps):\n",
    "    for j, (x, target) in enumerate(zip(X_train, target_labels)):\n",
    "        init_params = opt.step(lambda p: cost(p, x, target), init_params)\n",
    "\n",
    "    if i % 10 == 0:\n",
    "        predictions_train = [np.sign(quantum_circuit(init_params, x)) for x in X_train]\n",
    "        acc_train = accuracy_score(target_labels, predictions_train)\n",
    "        print(f\"Step {i + 1}/{steps}: Training Accuracy = {acc_train}\")\n",
    "\n",
    "# Evaluate the circuit with the optimized parameters on the test set\n",
    "predictions_test = [np.sign(quantum_circuit(init_params, x)) for x in X_test]\n",
    "acc_test = accuracy_score(2 * y_test - 1, predictions_test)\n",
    "print(\"Test Accuracy:\", acc_test)\n"
   ]
  },
  {
   "cell_type": "code",
   "execution_count": 48,
   "metadata": {},
   "outputs": [
    {
     "name": "stderr",
     "output_type": "stream",
     "text": [
      "C:\\Users\\petre\\AppData\\Local\\Temp\\ipykernel_19816\\761079480.py:2: UserWarning: Matplotlib is currently using module://matplotlib_inline.backend_inline, which is a non-GUI backend, so cannot show the figure.\n",
      "  fig.show()\n"
     ]
    },
    {
     "data": {
      "image/png": "[encoded data removed]",
      "text/plain": [
       "<Figure size 700x300 with 1 Axes>"
      ]
     },
     "metadata": {},
     "output_type": "display_data"
    }
   ],
   "source": [
    "fig, ax = qml.draw_mpl(variational_circuit)([1,1,1,1,1,1],[1,1,1,1,1,1])\n",
    "fig.show()"
   ]
  }
 ],
 "metadata": {
  "kernelspec": {
   "display_name": "myenv",
   "language": "python",
   "name": "python3"
  },
  "language_info": {
   "codemirror_mode": {
    "name": "ipython",
    "version": 3
   },
   "file_extension": ".py",
   "mimetype": "text/x-python",
   "name": "python",
   "nbconvert_exporter": "python",
   "pygments_lexer": "ipython3",
   "version": "3.10.4"
  }
 },
 "nbformat": 4,
 "nbformat_minor": 2
}
